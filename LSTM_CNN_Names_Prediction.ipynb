{
 "cells": [
  {
   "cell_type": "code",
   "execution_count": null,
   "metadata": {
    "colab": {
     "base_uri": "https://localhost:8080/"
    },
    "id": "xQN1APY_4-Mu",
    "outputId": "510a098f-fcc9-45f0-9fa3-1a0d5c81e18d"
   },
   "outputs": [
    {
     "name": "stdout",
     "output_type": "stream",
     "text": [
      "Looking in indexes: https://pypi.org/simple, https://us-python.pkg.dev/colab-wheels/public/simple/\n",
      "Collecting fast_ml\n",
      "  Downloading fast_ml-3.68-py3-none-any.whl (42 kB)\n",
      "\u001b[K     |████████████████████████████████| 42 kB 723 kB/s \n",
      "\u001b[?25hInstalling collected packages: fast-ml\n",
      "Successfully installed fast-ml-3.68\n"
     ]
    }
   ],
   "source": [
    "!pip install fast_ml"
   ]
  },
  {
   "cell_type": "code",
   "execution_count": null,
   "metadata": {
    "id": "rAxDhIMBDqOD"
   },
   "outputs": [],
   "source": [
    "import nltk\n",
    "import pandas as pd\n",
    "import matplotlib.pyplot as plt\n",
    "import seaborn as sns\n",
    "from tensorflow import keras\n",
    "from keras import layers\n",
    "import numpy as np\n",
    "from sklearn.feature_extraction.text import TfidfVectorizer\n",
    "from sklearn.preprocessing import LabelBinarizer\n",
    "from sklearn.metrics import classification_report\n",
    "from sklearn.model_selection import train_test_split\n",
    "from keras.layers import TextVectorization\n",
    "from sklearn.metrics import confusion_matrix\n",
    "%matplotlib inline"
   ]
  },
  {
   "cell_type": "code",
   "execution_count": null,
   "metadata": {
    "id": "QiWJKdXUJu5q"
   },
   "outputs": [],
   "source": [
    "nltk.download(\"popular\",quiet= True)\n",
    "from nltk.corpus import names"
   ]
  },
  {
   "cell_type": "code",
   "execution_count": null,
   "metadata": {
    "id": "RYwIgV0PG8GI"
   },
   "outputs": [],
   "source": [
    "males = names.words('male.txt')\n",
    "females = names.words('female.txt')"
   ]
  },
  {
   "cell_type": "code",
   "execution_count": null,
   "metadata": {
    "colab": {
     "base_uri": "https://localhost:8080/"
    },
    "id": "By5iG1DrIJjL",
    "outputId": "18f5185c-01ef-41d3-f007-227319828e6a"
   },
   "outputs": [
    {
     "name": "stdout",
     "output_type": "stream",
     "text": [
      "(2943, 2)\n",
      "(5001, 2)\n"
     ]
    }
   ],
   "source": [
    "males_df = pd.DataFrame({\"NAME\":males,\"GENDER\":\"MALE\"})\n",
    "print(males_df.shape)\n",
    "\n",
    "females_df = pd.DataFrame({\"NAME\":females,\"GENDER\":\"FEMALE\"})\n",
    "print(females_df.shape)"
   ]
  },
  {
   "cell_type": "code",
   "execution_count": null,
   "metadata": {
    "colab": {
     "base_uri": "https://localhost:8080/",
     "height": 206
    },
    "id": "oeuMHSUPKVQY",
    "outputId": "28d2b2ba-fa1c-4c47-b418-3b6931fd2b00"
   },
   "outputs": [
    {
     "data": {
      "text/html": [
       "\n",
       "  <div id=\"df-5707d0a8-f990-4238-ab63-7c5e028e7753\">\n",
       "    <div class=\"colab-df-container\">\n",
       "      <div>\n",
       "<style scoped>\n",
       "    .dataframe tbody tr th:only-of-type {\n",
       "        vertical-align: middle;\n",
       "    }\n",
       "\n",
       "    .dataframe tbody tr th {\n",
       "        vertical-align: top;\n",
       "    }\n",
       "\n",
       "    .dataframe thead th {\n",
       "        text-align: right;\n",
       "    }\n",
       "</style>\n",
       "<table border=\"1\" class=\"dataframe\">\n",
       "  <thead>\n",
       "    <tr style=\"text-align: right;\">\n",
       "      <th></th>\n",
       "      <th>NAME</th>\n",
       "      <th>GENDER</th>\n",
       "    </tr>\n",
       "  </thead>\n",
       "  <tbody>\n",
       "    <tr>\n",
       "      <th>0</th>\n",
       "      <td>Aamir</td>\n",
       "      <td>MALE</td>\n",
       "    </tr>\n",
       "    <tr>\n",
       "      <th>1</th>\n",
       "      <td>Aaron</td>\n",
       "      <td>MALE</td>\n",
       "    </tr>\n",
       "    <tr>\n",
       "      <th>2</th>\n",
       "      <td>Abbey</td>\n",
       "      <td>MALE</td>\n",
       "    </tr>\n",
       "    <tr>\n",
       "      <th>3</th>\n",
       "      <td>Abbie</td>\n",
       "      <td>MALE</td>\n",
       "    </tr>\n",
       "    <tr>\n",
       "      <th>4</th>\n",
       "      <td>Abbot</td>\n",
       "      <td>MALE</td>\n",
       "    </tr>\n",
       "  </tbody>\n",
       "</table>\n",
       "</div>\n",
       "      <button class=\"colab-df-convert\" onclick=\"convertToInteractive('df-5707d0a8-f990-4238-ab63-7c5e028e7753')\"\n",
       "              title=\"Convert this dataframe to an interactive table.\"\n",
       "              style=\"display:none;\">\n",
       "        \n",
       "  <svg xmlns=\"http://www.w3.org/2000/svg\" height=\"24px\"viewBox=\"0 0 24 24\"\n",
       "       width=\"24px\">\n",
       "    <path d=\"M0 0h24v24H0V0z\" fill=\"none\"/>\n",
       "    <path d=\"M18.56 5.44l.94 2.06.94-2.06 2.06-.94-2.06-.94-.94-2.06-.94 2.06-2.06.94zm-11 1L8.5 8.5l.94-2.06 2.06-.94-2.06-.94L8.5 2.5l-.94 2.06-2.06.94zm10 10l.94 2.06.94-2.06 2.06-.94-2.06-.94-.94-2.06-.94 2.06-2.06.94z\"/><path d=\"M17.41 7.96l-1.37-1.37c-.4-.4-.92-.59-1.43-.59-.52 0-1.04.2-1.43.59L10.3 9.45l-7.72 7.72c-.78.78-.78 2.05 0 2.83L4 21.41c.39.39.9.59 1.41.59.51 0 1.02-.2 1.41-.59l7.78-7.78 2.81-2.81c.8-.78.8-2.07 0-2.86zM5.41 20L4 18.59l7.72-7.72 1.47 1.35L5.41 20z\"/>\n",
       "  </svg>\n",
       "      </button>\n",
       "      \n",
       "  <style>\n",
       "    .colab-df-container {\n",
       "      display:flex;\n",
       "      flex-wrap:wrap;\n",
       "      gap: 12px;\n",
       "    }\n",
       "\n",
       "    .colab-df-convert {\n",
       "      background-color: #E8F0FE;\n",
       "      border: none;\n",
       "      border-radius: 50%;\n",
       "      cursor: pointer;\n",
       "      display: none;\n",
       "      fill: #1967D2;\n",
       "      height: 32px;\n",
       "      padding: 0 0 0 0;\n",
       "      width: 32px;\n",
       "    }\n",
       "\n",
       "    .colab-df-convert:hover {\n",
       "      background-color: #E2EBFA;\n",
       "      box-shadow: 0px 1px 2px rgba(60, 64, 67, 0.3), 0px 1px 3px 1px rgba(60, 64, 67, 0.15);\n",
       "      fill: #174EA6;\n",
       "    }\n",
       "\n",
       "    [theme=dark] .colab-df-convert {\n",
       "      background-color: #3B4455;\n",
       "      fill: #D2E3FC;\n",
       "    }\n",
       "\n",
       "    [theme=dark] .colab-df-convert:hover {\n",
       "      background-color: #434B5C;\n",
       "      box-shadow: 0px 1px 3px 1px rgba(0, 0, 0, 0.15);\n",
       "      filter: drop-shadow(0px 1px 2px rgba(0, 0, 0, 0.3));\n",
       "      fill: #FFFFFF;\n",
       "    }\n",
       "  </style>\n",
       "\n",
       "      <script>\n",
       "        const buttonEl =\n",
       "          document.querySelector('#df-5707d0a8-f990-4238-ab63-7c5e028e7753 button.colab-df-convert');\n",
       "        buttonEl.style.display =\n",
       "          google.colab.kernel.accessAllowed ? 'block' : 'none';\n",
       "\n",
       "        async function convertToInteractive(key) {\n",
       "          const element = document.querySelector('#df-5707d0a8-f990-4238-ab63-7c5e028e7753');\n",
       "          const dataTable =\n",
       "            await google.colab.kernel.invokeFunction('convertToInteractive',\n",
       "                                                     [key], {});\n",
       "          if (!dataTable) return;\n",
       "\n",
       "          const docLinkHtml = 'Like what you see? Visit the ' +\n",
       "            '<a target=\"_blank\" href=https://colab.research.google.com/notebooks/data_table.ipynb>data table notebook</a>'\n",
       "            + ' to learn more about interactive tables.';\n",
       "          element.innerHTML = '';\n",
       "          dataTable['output_type'] = 'display_data';\n",
       "          await google.colab.output.renderOutput(dataTable, element);\n",
       "          const docLink = document.createElement('div');\n",
       "          docLink.innerHTML = docLinkHtml;\n",
       "          element.appendChild(docLink);\n",
       "        }\n",
       "      </script>\n",
       "    </div>\n",
       "  </div>\n",
       "  "
      ],
      "text/plain": [
       "    NAME GENDER\n",
       "0  Aamir   MALE\n",
       "1  Aaron   MALE\n",
       "2  Abbey   MALE\n",
       "3  Abbie   MALE\n",
       "4  Abbot   MALE"
      ]
     },
     "execution_count": 208,
     "metadata": {},
     "output_type": "execute_result"
    }
   ],
   "source": [
    "males_df.head()"
   ]
  },
  {
   "cell_type": "code",
   "execution_count": null,
   "metadata": {
    "colab": {
     "base_uri": "https://localhost:8080/",
     "height": 206
    },
    "id": "CEWoT180KbWL",
    "outputId": "5a483b7b-dfe8-46bf-e6f5-a421dfe91a31"
   },
   "outputs": [
    {
     "data": {
      "text/html": [
       "\n",
       "  <div id=\"df-e7cf568b-3cca-42be-a415-e82279d0df04\">\n",
       "    <div class=\"colab-df-container\">\n",
       "      <div>\n",
       "<style scoped>\n",
       "    .dataframe tbody tr th:only-of-type {\n",
       "        vertical-align: middle;\n",
       "    }\n",
       "\n",
       "    .dataframe tbody tr th {\n",
       "        vertical-align: top;\n",
       "    }\n",
       "\n",
       "    .dataframe thead th {\n",
       "        text-align: right;\n",
       "    }\n",
       "</style>\n",
       "<table border=\"1\" class=\"dataframe\">\n",
       "  <thead>\n",
       "    <tr style=\"text-align: right;\">\n",
       "      <th></th>\n",
       "      <th>NAME</th>\n",
       "      <th>GENDER</th>\n",
       "    </tr>\n",
       "  </thead>\n",
       "  <tbody>\n",
       "    <tr>\n",
       "      <th>0</th>\n",
       "      <td>Abagael</td>\n",
       "      <td>FEMALE</td>\n",
       "    </tr>\n",
       "    <tr>\n",
       "      <th>1</th>\n",
       "      <td>Abagail</td>\n",
       "      <td>FEMALE</td>\n",
       "    </tr>\n",
       "    <tr>\n",
       "      <th>2</th>\n",
       "      <td>Abbe</td>\n",
       "      <td>FEMALE</td>\n",
       "    </tr>\n",
       "    <tr>\n",
       "      <th>3</th>\n",
       "      <td>Abbey</td>\n",
       "      <td>FEMALE</td>\n",
       "    </tr>\n",
       "    <tr>\n",
       "      <th>4</th>\n",
       "      <td>Abbi</td>\n",
       "      <td>FEMALE</td>\n",
       "    </tr>\n",
       "  </tbody>\n",
       "</table>\n",
       "</div>\n",
       "      <button class=\"colab-df-convert\" onclick=\"convertToInteractive('df-e7cf568b-3cca-42be-a415-e82279d0df04')\"\n",
       "              title=\"Convert this dataframe to an interactive table.\"\n",
       "              style=\"display:none;\">\n",
       "        \n",
       "  <svg xmlns=\"http://www.w3.org/2000/svg\" height=\"24px\"viewBox=\"0 0 24 24\"\n",
       "       width=\"24px\">\n",
       "    <path d=\"M0 0h24v24H0V0z\" fill=\"none\"/>\n",
       "    <path d=\"M18.56 5.44l.94 2.06.94-2.06 2.06-.94-2.06-.94-.94-2.06-.94 2.06-2.06.94zm-11 1L8.5 8.5l.94-2.06 2.06-.94-2.06-.94L8.5 2.5l-.94 2.06-2.06.94zm10 10l.94 2.06.94-2.06 2.06-.94-2.06-.94-.94-2.06-.94 2.06-2.06.94z\"/><path d=\"M17.41 7.96l-1.37-1.37c-.4-.4-.92-.59-1.43-.59-.52 0-1.04.2-1.43.59L10.3 9.45l-7.72 7.72c-.78.78-.78 2.05 0 2.83L4 21.41c.39.39.9.59 1.41.59.51 0 1.02-.2 1.41-.59l7.78-7.78 2.81-2.81c.8-.78.8-2.07 0-2.86zM5.41 20L4 18.59l7.72-7.72 1.47 1.35L5.41 20z\"/>\n",
       "  </svg>\n",
       "      </button>\n",
       "      \n",
       "  <style>\n",
       "    .colab-df-container {\n",
       "      display:flex;\n",
       "      flex-wrap:wrap;\n",
       "      gap: 12px;\n",
       "    }\n",
       "\n",
       "    .colab-df-convert {\n",
       "      background-color: #E8F0FE;\n",
       "      border: none;\n",
       "      border-radius: 50%;\n",
       "      cursor: pointer;\n",
       "      display: none;\n",
       "      fill: #1967D2;\n",
       "      height: 32px;\n",
       "      padding: 0 0 0 0;\n",
       "      width: 32px;\n",
       "    }\n",
       "\n",
       "    .colab-df-convert:hover {\n",
       "      background-color: #E2EBFA;\n",
       "      box-shadow: 0px 1px 2px rgba(60, 64, 67, 0.3), 0px 1px 3px 1px rgba(60, 64, 67, 0.15);\n",
       "      fill: #174EA6;\n",
       "    }\n",
       "\n",
       "    [theme=dark] .colab-df-convert {\n",
       "      background-color: #3B4455;\n",
       "      fill: #D2E3FC;\n",
       "    }\n",
       "\n",
       "    [theme=dark] .colab-df-convert:hover {\n",
       "      background-color: #434B5C;\n",
       "      box-shadow: 0px 1px 3px 1px rgba(0, 0, 0, 0.15);\n",
       "      filter: drop-shadow(0px 1px 2px rgba(0, 0, 0, 0.3));\n",
       "      fill: #FFFFFF;\n",
       "    }\n",
       "  </style>\n",
       "\n",
       "      <script>\n",
       "        const buttonEl =\n",
       "          document.querySelector('#df-e7cf568b-3cca-42be-a415-e82279d0df04 button.colab-df-convert');\n",
       "        buttonEl.style.display =\n",
       "          google.colab.kernel.accessAllowed ? 'block' : 'none';\n",
       "\n",
       "        async function convertToInteractive(key) {\n",
       "          const element = document.querySelector('#df-e7cf568b-3cca-42be-a415-e82279d0df04');\n",
       "          const dataTable =\n",
       "            await google.colab.kernel.invokeFunction('convertToInteractive',\n",
       "                                                     [key], {});\n",
       "          if (!dataTable) return;\n",
       "\n",
       "          const docLinkHtml = 'Like what you see? Visit the ' +\n",
       "            '<a target=\"_blank\" href=https://colab.research.google.com/notebooks/data_table.ipynb>data table notebook</a>'\n",
       "            + ' to learn more about interactive tables.';\n",
       "          element.innerHTML = '';\n",
       "          dataTable['output_type'] = 'display_data';\n",
       "          await google.colab.output.renderOutput(dataTable, element);\n",
       "          const docLink = document.createElement('div');\n",
       "          docLink.innerHTML = docLinkHtml;\n",
       "          element.appendChild(docLink);\n",
       "        }\n",
       "      </script>\n",
       "    </div>\n",
       "  </div>\n",
       "  "
      ],
      "text/plain": [
       "      NAME  GENDER\n",
       "0  Abagael  FEMALE\n",
       "1  Abagail  FEMALE\n",
       "2     Abbe  FEMALE\n",
       "3    Abbey  FEMALE\n",
       "4     Abbi  FEMALE"
      ]
     },
     "execution_count": 209,
     "metadata": {},
     "output_type": "execute_result"
    }
   ],
   "source": [
    "females_df.head()"
   ]
  },
  {
   "cell_type": "code",
   "execution_count": null,
   "metadata": {
    "colab": {
     "base_uri": "https://localhost:8080/"
    },
    "id": "X8abt2OEKejX",
    "outputId": "e84492eb-c759-4f8b-dd8c-43917fe80aef"
   },
   "outputs": [
    {
     "data": {
      "text/plain": [
       "(7944, 2)"
      ]
     },
     "execution_count": 210,
     "metadata": {},
     "output_type": "execute_result"
    }
   ],
   "source": [
    "data = pd.concat([females_df,males_df],ignore_index= True)\n",
    "# Shuffling all the rows \n",
    "data = data.sample(frac=1,random_state = 2,ignore_index= True)\n",
    "data.shape"
   ]
  },
  {
   "cell_type": "code",
   "execution_count": null,
   "metadata": {
    "colab": {
     "base_uri": "https://localhost:8080/",
     "height": 206
    },
    "id": "qsVP2IZRKokZ",
    "outputId": "ffbf268c-bcb0-45ff-b92b-e5756805a1db"
   },
   "outputs": [
    {
     "data": {
      "text/html": [
       "\n",
       "  <div id=\"df-a6daa022-526a-4b01-90a4-1aefd2f10fcc\">\n",
       "    <div class=\"colab-df-container\">\n",
       "      <div>\n",
       "<style scoped>\n",
       "    .dataframe tbody tr th:only-of-type {\n",
       "        vertical-align: middle;\n",
       "    }\n",
       "\n",
       "    .dataframe tbody tr th {\n",
       "        vertical-align: top;\n",
       "    }\n",
       "\n",
       "    .dataframe thead th {\n",
       "        text-align: right;\n",
       "    }\n",
       "</style>\n",
       "<table border=\"1\" class=\"dataframe\">\n",
       "  <thead>\n",
       "    <tr style=\"text-align: right;\">\n",
       "      <th></th>\n",
       "      <th>NAME</th>\n",
       "      <th>GENDER</th>\n",
       "    </tr>\n",
       "  </thead>\n",
       "  <tbody>\n",
       "    <tr>\n",
       "      <th>0</th>\n",
       "      <td>Tracy</td>\n",
       "      <td>MALE</td>\n",
       "    </tr>\n",
       "    <tr>\n",
       "      <th>1</th>\n",
       "      <td>Emile</td>\n",
       "      <td>MALE</td>\n",
       "    </tr>\n",
       "    <tr>\n",
       "      <th>2</th>\n",
       "      <td>Janaya</td>\n",
       "      <td>FEMALE</td>\n",
       "    </tr>\n",
       "    <tr>\n",
       "      <th>3</th>\n",
       "      <td>Iona</td>\n",
       "      <td>FEMALE</td>\n",
       "    </tr>\n",
       "    <tr>\n",
       "      <th>4</th>\n",
       "      <td>Zerk</td>\n",
       "      <td>MALE</td>\n",
       "    </tr>\n",
       "  </tbody>\n",
       "</table>\n",
       "</div>\n",
       "      <button class=\"colab-df-convert\" onclick=\"convertToInteractive('df-a6daa022-526a-4b01-90a4-1aefd2f10fcc')\"\n",
       "              title=\"Convert this dataframe to an interactive table.\"\n",
       "              style=\"display:none;\">\n",
       "        \n",
       "  <svg xmlns=\"http://www.w3.org/2000/svg\" height=\"24px\"viewBox=\"0 0 24 24\"\n",
       "       width=\"24px\">\n",
       "    <path d=\"M0 0h24v24H0V0z\" fill=\"none\"/>\n",
       "    <path d=\"M18.56 5.44l.94 2.06.94-2.06 2.06-.94-2.06-.94-.94-2.06-.94 2.06-2.06.94zm-11 1L8.5 8.5l.94-2.06 2.06-.94-2.06-.94L8.5 2.5l-.94 2.06-2.06.94zm10 10l.94 2.06.94-2.06 2.06-.94-2.06-.94-.94-2.06-.94 2.06-2.06.94z\"/><path d=\"M17.41 7.96l-1.37-1.37c-.4-.4-.92-.59-1.43-.59-.52 0-1.04.2-1.43.59L10.3 9.45l-7.72 7.72c-.78.78-.78 2.05 0 2.83L4 21.41c.39.39.9.59 1.41.59.51 0 1.02-.2 1.41-.59l7.78-7.78 2.81-2.81c.8-.78.8-2.07 0-2.86zM5.41 20L4 18.59l7.72-7.72 1.47 1.35L5.41 20z\"/>\n",
       "  </svg>\n",
       "      </button>\n",
       "      \n",
       "  <style>\n",
       "    .colab-df-container {\n",
       "      display:flex;\n",
       "      flex-wrap:wrap;\n",
       "      gap: 12px;\n",
       "    }\n",
       "\n",
       "    .colab-df-convert {\n",
       "      background-color: #E8F0FE;\n",
       "      border: none;\n",
       "      border-radius: 50%;\n",
       "      cursor: pointer;\n",
       "      display: none;\n",
       "      fill: #1967D2;\n",
       "      height: 32px;\n",
       "      padding: 0 0 0 0;\n",
       "      width: 32px;\n",
       "    }\n",
       "\n",
       "    .colab-df-convert:hover {\n",
       "      background-color: #E2EBFA;\n",
       "      box-shadow: 0px 1px 2px rgba(60, 64, 67, 0.3), 0px 1px 3px 1px rgba(60, 64, 67, 0.15);\n",
       "      fill: #174EA6;\n",
       "    }\n",
       "\n",
       "    [theme=dark] .colab-df-convert {\n",
       "      background-color: #3B4455;\n",
       "      fill: #D2E3FC;\n",
       "    }\n",
       "\n",
       "    [theme=dark] .colab-df-convert:hover {\n",
       "      background-color: #434B5C;\n",
       "      box-shadow: 0px 1px 3px 1px rgba(0, 0, 0, 0.15);\n",
       "      filter: drop-shadow(0px 1px 2px rgba(0, 0, 0, 0.3));\n",
       "      fill: #FFFFFF;\n",
       "    }\n",
       "  </style>\n",
       "\n",
       "      <script>\n",
       "        const buttonEl =\n",
       "          document.querySelector('#df-a6daa022-526a-4b01-90a4-1aefd2f10fcc button.colab-df-convert');\n",
       "        buttonEl.style.display =\n",
       "          google.colab.kernel.accessAllowed ? 'block' : 'none';\n",
       "\n",
       "        async function convertToInteractive(key) {\n",
       "          const element = document.querySelector('#df-a6daa022-526a-4b01-90a4-1aefd2f10fcc');\n",
       "          const dataTable =\n",
       "            await google.colab.kernel.invokeFunction('convertToInteractive',\n",
       "                                                     [key], {});\n",
       "          if (!dataTable) return;\n",
       "\n",
       "          const docLinkHtml = 'Like what you see? Visit the ' +\n",
       "            '<a target=\"_blank\" href=https://colab.research.google.com/notebooks/data_table.ipynb>data table notebook</a>'\n",
       "            + ' to learn more about interactive tables.';\n",
       "          element.innerHTML = '';\n",
       "          dataTable['output_type'] = 'display_data';\n",
       "          await google.colab.output.renderOutput(dataTable, element);\n",
       "          const docLink = document.createElement('div');\n",
       "          docLink.innerHTML = docLinkHtml;\n",
       "          element.appendChild(docLink);\n",
       "        }\n",
       "      </script>\n",
       "    </div>\n",
       "  </div>\n",
       "  "
      ],
      "text/plain": [
       "     NAME  GENDER\n",
       "0   Tracy    MALE\n",
       "1   Emile    MALE\n",
       "2  Janaya  FEMALE\n",
       "3    Iona  FEMALE\n",
       "4    Zerk    MALE"
      ]
     },
     "execution_count": 103,
     "metadata": {},
     "output_type": "execute_result"
    }
   ],
   "source": [
    "data.head()"
   ]
  },
  {
   "cell_type": "markdown",
   "metadata": {
    "id": "u1_mpQ0cO3A8"
   },
   "source": [
    "## Data Visualization "
   ]
  },
  {
   "cell_type": "markdown",
   "metadata": {
    "id": "sqFuyuGPa04F"
   },
   "source": [
    "### Distribution of different letters"
   ]
  },
  {
   "cell_type": "code",
   "execution_count": null,
   "metadata": {
    "colab": {
     "base_uri": "https://localhost:8080/",
     "height": 206
    },
    "id": "N-lmu_uKPoSr",
    "outputId": "c75e3a97-2206-44d6-d2c8-81804f950532"
   },
   "outputs": [
    {
     "data": {
      "text/html": [
       "\n",
       "  <div id=\"df-04f8d282-8f36-47d3-be57-1a0a99ae4894\">\n",
       "    <div class=\"colab-df-container\">\n",
       "      <div>\n",
       "<style scoped>\n",
       "    .dataframe tbody tr th:only-of-type {\n",
       "        vertical-align: middle;\n",
       "    }\n",
       "\n",
       "    .dataframe tbody tr th {\n",
       "        vertical-align: top;\n",
       "    }\n",
       "\n",
       "    .dataframe thead th {\n",
       "        text-align: right;\n",
       "    }\n",
       "</style>\n",
       "<table border=\"1\" class=\"dataframe\">\n",
       "  <thead>\n",
       "    <tr style=\"text-align: right;\">\n",
       "      <th></th>\n",
       "      <th>LETTERS</th>\n",
       "      <th>DIST</th>\n",
       "    </tr>\n",
       "  </thead>\n",
       "  <tbody>\n",
       "    <tr>\n",
       "      <th>0</th>\n",
       "      <td>A</td>\n",
       "      <td>656</td>\n",
       "    </tr>\n",
       "    <tr>\n",
       "      <th>1</th>\n",
       "      <td>B</td>\n",
       "      <td>419</td>\n",
       "    </tr>\n",
       "    <tr>\n",
       "      <th>2</th>\n",
       "      <td>C</td>\n",
       "      <td>635</td>\n",
       "    </tr>\n",
       "    <tr>\n",
       "      <th>3</th>\n",
       "      <td>D</td>\n",
       "      <td>454</td>\n",
       "    </tr>\n",
       "    <tr>\n",
       "      <th>4</th>\n",
       "      <td>E</td>\n",
       "      <td>370</td>\n",
       "    </tr>\n",
       "  </tbody>\n",
       "</table>\n",
       "</div>\n",
       "      <button class=\"colab-df-convert\" onclick=\"convertToInteractive('df-04f8d282-8f36-47d3-be57-1a0a99ae4894')\"\n",
       "              title=\"Convert this dataframe to an interactive table.\"\n",
       "              style=\"display:none;\">\n",
       "        \n",
       "  <svg xmlns=\"http://www.w3.org/2000/svg\" height=\"24px\"viewBox=\"0 0 24 24\"\n",
       "       width=\"24px\">\n",
       "    <path d=\"M0 0h24v24H0V0z\" fill=\"none\"/>\n",
       "    <path d=\"M18.56 5.44l.94 2.06.94-2.06 2.06-.94-2.06-.94-.94-2.06-.94 2.06-2.06.94zm-11 1L8.5 8.5l.94-2.06 2.06-.94-2.06-.94L8.5 2.5l-.94 2.06-2.06.94zm10 10l.94 2.06.94-2.06 2.06-.94-2.06-.94-.94-2.06-.94 2.06-2.06.94z\"/><path d=\"M17.41 7.96l-1.37-1.37c-.4-.4-.92-.59-1.43-.59-.52 0-1.04.2-1.43.59L10.3 9.45l-7.72 7.72c-.78.78-.78 2.05 0 2.83L4 21.41c.39.39.9.59 1.41.59.51 0 1.02-.2 1.41-.59l7.78-7.78 2.81-2.81c.8-.78.8-2.07 0-2.86zM5.41 20L4 18.59l7.72-7.72 1.47 1.35L5.41 20z\"/>\n",
       "  </svg>\n",
       "      </button>\n",
       "      \n",
       "  <style>\n",
       "    .colab-df-container {\n",
       "      display:flex;\n",
       "      flex-wrap:wrap;\n",
       "      gap: 12px;\n",
       "    }\n",
       "\n",
       "    .colab-df-convert {\n",
       "      background-color: #E8F0FE;\n",
       "      border: none;\n",
       "      border-radius: 50%;\n",
       "      cursor: pointer;\n",
       "      display: none;\n",
       "      fill: #1967D2;\n",
       "      height: 32px;\n",
       "      padding: 0 0 0 0;\n",
       "      width: 32px;\n",
       "    }\n",
       "\n",
       "    .colab-df-convert:hover {\n",
       "      background-color: #E2EBFA;\n",
       "      box-shadow: 0px 1px 2px rgba(60, 64, 67, 0.3), 0px 1px 3px 1px rgba(60, 64, 67, 0.15);\n",
       "      fill: #174EA6;\n",
       "    }\n",
       "\n",
       "    [theme=dark] .colab-df-convert {\n",
       "      background-color: #3B4455;\n",
       "      fill: #D2E3FC;\n",
       "    }\n",
       "\n",
       "    [theme=dark] .colab-df-convert:hover {\n",
       "      background-color: #434B5C;\n",
       "      box-shadow: 0px 1px 3px 1px rgba(0, 0, 0, 0.15);\n",
       "      filter: drop-shadow(0px 1px 2px rgba(0, 0, 0, 0.3));\n",
       "      fill: #FFFFFF;\n",
       "    }\n",
       "  </style>\n",
       "\n",
       "      <script>\n",
       "        const buttonEl =\n",
       "          document.querySelector('#df-04f8d282-8f36-47d3-be57-1a0a99ae4894 button.colab-df-convert');\n",
       "        buttonEl.style.display =\n",
       "          google.colab.kernel.accessAllowed ? 'block' : 'none';\n",
       "\n",
       "        async function convertToInteractive(key) {\n",
       "          const element = document.querySelector('#df-04f8d282-8f36-47d3-be57-1a0a99ae4894');\n",
       "          const dataTable =\n",
       "            await google.colab.kernel.invokeFunction('convertToInteractive',\n",
       "                                                     [key], {});\n",
       "          if (!dataTable) return;\n",
       "\n",
       "          const docLinkHtml = 'Like what you see? Visit the ' +\n",
       "            '<a target=\"_blank\" href=https://colab.research.google.com/notebooks/data_table.ipynb>data table notebook</a>'\n",
       "            + ' to learn more about interactive tables.';\n",
       "          element.innerHTML = '';\n",
       "          dataTable['output_type'] = 'display_data';\n",
       "          await google.colab.output.renderOutput(dataTable, element);\n",
       "          const docLink = document.createElement('div');\n",
       "          docLink.innerHTML = docLinkHtml;\n",
       "          element.appendChild(docLink);\n",
       "        }\n",
       "      </script>\n",
       "    </div>\n",
       "  </div>\n",
       "  "
      ],
      "text/plain": [
       "  LETTERS  DIST\n",
       "0       A   656\n",
       "1       B   419\n",
       "2       C   635\n",
       "3       D   454\n",
       "4       E   370"
      ]
     },
     "execution_count": 30,
     "metadata": {},
     "output_type": "execute_result"
    }
   ],
   "source": [
    "import string\n",
    "letters = list(string.ascii_uppercase)\n",
    "letter_dist = []\n",
    "for l in letters:\n",
    "  l_data = len([idx for idx in data[\"NAME\"] if idx[0] == l])\n",
    "  letter_dist.append(l_data)\n",
    "\n",
    "letter_dist_df = pd.DataFrame({\"LETTERS\":letters,\"DIST\":letter_dist})\n",
    "letter_dist_df.head()"
   ]
  },
  {
   "cell_type": "code",
   "execution_count": null,
   "metadata": {
    "colab": {
     "base_uri": "https://localhost:8080/",
     "height": 295
    },
    "id": "MTeYPHmLQndz",
    "outputId": "de762ae2-3d8c-4d53-b4f1-613577c3669b"
   },
   "outputs": [
    {
     "data": {
      "image/png": "[encoded data removed]",
      "text/plain": [
       "<Figure size 432x288 with 1 Axes>"
      ]
     },
     "metadata": {
      "needs_background": "light"
     },
     "output_type": "display_data"
    }
   ],
   "source": [
    "sns.barplot(data = letter_dist_df, x = \"LETTERS\", y = \"DIST\")\n",
    "plt.title(\"Distribution of Names\")\n",
    "plt.show()"
   ]
  },
  {
   "cell_type": "markdown",
   "metadata": {
    "id": "byRUt3u6avd3"
   },
   "source": [
    "### Distribution of Males and Females"
   ]
  },
  {
   "cell_type": "code",
   "execution_count": null,
   "metadata": {
    "colab": {
     "base_uri": "https://localhost:8080/",
     "height": 112
    },
    "id": "CJuRpZ3ZazPw",
    "outputId": "e81a5c62-9906-400c-c5a7-45f423fd8429"
   },
   "outputs": [
    {
     "data": {
      "text/html": [
       "\n",
       "  <div id=\"df-aaa2cbfc-e228-4a54-ae94-0ed68246ef0e\">\n",
       "    <div class=\"colab-df-container\">\n",
       "      <div>\n",
       "<style scoped>\n",
       "    .dataframe tbody tr th:only-of-type {\n",
       "        vertical-align: middle;\n",
       "    }\n",
       "\n",
       "    .dataframe tbody tr th {\n",
       "        vertical-align: top;\n",
       "    }\n",
       "\n",
       "    .dataframe thead th {\n",
       "        text-align: right;\n",
       "    }\n",
       "</style>\n",
       "<table border=\"1\" class=\"dataframe\">\n",
       "  <thead>\n",
       "    <tr style=\"text-align: right;\">\n",
       "      <th></th>\n",
       "      <th>COUNT</th>\n",
       "      <th>GENDER</th>\n",
       "    </tr>\n",
       "  </thead>\n",
       "  <tbody>\n",
       "    <tr>\n",
       "      <th>0</th>\n",
       "      <td>2943</td>\n",
       "      <td>MALE</td>\n",
       "    </tr>\n",
       "    <tr>\n",
       "      <th>1</th>\n",
       "      <td>5001</td>\n",
       "      <td>FEMALE</td>\n",
       "    </tr>\n",
       "  </tbody>\n",
       "</table>\n",
       "</div>\n",
       "      <button class=\"colab-df-convert\" onclick=\"convertToInteractive('df-aaa2cbfc-e228-4a54-ae94-0ed68246ef0e')\"\n",
       "              title=\"Convert this dataframe to an interactive table.\"\n",
       "              style=\"display:none;\">\n",
       "        \n",
       "  <svg xmlns=\"http://www.w3.org/2000/svg\" height=\"24px\"viewBox=\"0 0 24 24\"\n",
       "       width=\"24px\">\n",
       "    <path d=\"M0 0h24v24H0V0z\" fill=\"none\"/>\n",
       "    <path d=\"M18.56 5.44l.94 2.06.94-2.06 2.06-.94-2.06-.94-.94-2.06-.94 2.06-2.06.94zm-11 1L8.5 8.5l.94-2.06 2.06-.94-2.06-.94L8.5 2.5l-.94 2.06-2.06.94zm10 10l.94 2.06.94-2.06 2.06-.94-2.06-.94-.94-2.06-.94 2.06-2.06.94z\"/><path d=\"M17.41 7.96l-1.37-1.37c-.4-.4-.92-.59-1.43-.59-.52 0-1.04.2-1.43.59L10.3 9.45l-7.72 7.72c-.78.78-.78 2.05 0 2.83L4 21.41c.39.39.9.59 1.41.59.51 0 1.02-.2 1.41-.59l7.78-7.78 2.81-2.81c.8-.78.8-2.07 0-2.86zM5.41 20L4 18.59l7.72-7.72 1.47 1.35L5.41 20z\"/>\n",
       "  </svg>\n",
       "      </button>\n",
       "      \n",
       "  <style>\n",
       "    .colab-df-container {\n",
       "      display:flex;\n",
       "      flex-wrap:wrap;\n",
       "      gap: 12px;\n",
       "    }\n",
       "\n",
       "    .colab-df-convert {\n",
       "      background-color: #E8F0FE;\n",
       "      border: none;\n",
       "      border-radius: 50%;\n",
       "      cursor: pointer;\n",
       "      display: none;\n",
       "      fill: #1967D2;\n",
       "      height: 32px;\n",
       "      padding: 0 0 0 0;\n",
       "      width: 32px;\n",
       "    }\n",
       "\n",
       "    .colab-df-convert:hover {\n",
       "      background-color: #E2EBFA;\n",
       "      box-shadow: 0px 1px 2px rgba(60, 64, 67, 0.3), 0px 1px 3px 1px rgba(60, 64, 67, 0.15);\n",
       "      fill: #174EA6;\n",
       "    }\n",
       "\n",
       "    [theme=dark] .colab-df-convert {\n",
       "      background-color: #3B4455;\n",
       "      fill: #D2E3FC;\n",
       "    }\n",
       "\n",
       "    [theme=dark] .colab-df-convert:hover {\n",
       "      background-color: #434B5C;\n",
       "      box-shadow: 0px 1px 3px 1px rgba(0, 0, 0, 0.15);\n",
       "      filter: drop-shadow(0px 1px 2px rgba(0, 0, 0, 0.3));\n",
       "      fill: #FFFFFF;\n",
       "    }\n",
       "  </style>\n",
       "\n",
       "      <script>\n",
       "        const buttonEl =\n",
       "          document.querySelector('#df-aaa2cbfc-e228-4a54-ae94-0ed68246ef0e button.colab-df-convert');\n",
       "        buttonEl.style.display =\n",
       "          google.colab.kernel.accessAllowed ? 'block' : 'none';\n",
       "\n",
       "        async function convertToInteractive(key) {\n",
       "          const element = document.querySelector('#df-aaa2cbfc-e228-4a54-ae94-0ed68246ef0e');\n",
       "          const dataTable =\n",
       "            await google.colab.kernel.invokeFunction('convertToInteractive',\n",
       "                                                     [key], {});\n",
       "          if (!dataTable) return;\n",
       "\n",
       "          const docLinkHtml = 'Like what you see? Visit the ' +\n",
       "            '<a target=\"_blank\" href=https://colab.research.google.com/notebooks/data_table.ipynb>data table notebook</a>'\n",
       "            + ' to learn more about interactive tables.';\n",
       "          element.innerHTML = '';\n",
       "          dataTable['output_type'] = 'display_data';\n",
       "          await google.colab.output.renderOutput(dataTable, element);\n",
       "          const docLink = document.createElement('div');\n",
       "          docLink.innerHTML = docLinkHtml;\n",
       "          element.appendChild(docLink);\n",
       "        }\n",
       "      </script>\n",
       "    </div>\n",
       "  </div>\n",
       "  "
      ],
      "text/plain": [
       "   COUNT  GENDER\n",
       "0   2943    MALE\n",
       "1   5001  FEMALE"
      ]
     },
     "execution_count": 32,
     "metadata": {},
     "output_type": "execute_result"
    }
   ],
   "source": [
    "gender_dist_df = pd.DataFrame({\"COUNT\":[len(data[data['GENDER'] == 'MALE']),len(data[data['GENDER'] == 'FEMALE'].value_counts())],\"GENDER\":[\"MALE\",'FEMALE']})\n",
    "gender_dist_df.head()"
   ]
  },
  {
   "cell_type": "code",
   "execution_count": null,
   "metadata": {
    "colab": {
     "base_uri": "https://localhost:8080/",
     "height": 295
    },
    "id": "6djfQnCbhljs",
    "outputId": "aa4ccb0a-2fce-4390-fafc-2d0fccbbf90c"
   },
   "outputs": [
    {
     "data": {
      "image/png": "[encoded data removed]",
      "text/plain": [
       "<Figure size 432x288 with 1 Axes>"
      ]
     },
     "metadata": {
      "needs_background": "light"
     },
     "output_type": "display_data"
    }
   ],
   "source": [
    "sns.barplot(data = gender_dist_df, x = \"GENDER\", y = \"COUNT\")\n",
    "plt.title(\"Distribution of Names by Gender\")\n",
    "plt.show()"
   ]
  },
  {
   "cell_type": "markdown",
   "metadata": {
    "id": "A9Dk0b7v2Ypo"
   },
   "source": [
    "## Data Preprocessing"
   ]
  },
  {
   "cell_type": "code",
   "execution_count": null,
   "metadata": {
    "id": "WyGpxHyT3str"
   },
   "outputs": [],
   "source": [
    "def data_preprocess(data):\n",
    "  data['NAME'] = data['NAME'].str.lower().str.strip()\n",
    "  data = pd.get_dummies(data,columns = [\"GENDER\"])\n",
    "  outputs = data[['GENDER_MALE','GENDER_FEMALE']].values.astype(int)\n",
    "  data['GENDER'] = list(outputs)\n",
    "  del data['GENDER_MALE'], data['GENDER_FEMALE']\n",
    "  return data\n"
   ]
  },
  {
   "cell_type": "code",
   "execution_count": null,
   "metadata": {
    "colab": {
     "base_uri": "https://localhost:8080/",
     "height": 206
    },
    "id": "z48YP2tv2YYN",
    "outputId": "77b4a63e-e8ba-4721-fdc0-d804f6580457"
   },
   "outputs": [
    {
     "data": {
      "text/html": [
       "\n",
       "  <div id=\"df-497708d3-07ad-4610-80a4-1d6e7d368193\">\n",
       "    <div class=\"colab-df-container\">\n",
       "      <div>\n",
       "<style scoped>\n",
       "    .dataframe tbody tr th:only-of-type {\n",
       "        vertical-align: middle;\n",
       "    }\n",
       "\n",
       "    .dataframe tbody tr th {\n",
       "        vertical-align: top;\n",
       "    }\n",
       "\n",
       "    .dataframe thead th {\n",
       "        text-align: right;\n",
       "    }\n",
       "</style>\n",
       "<table border=\"1\" class=\"dataframe\">\n",
       "  <thead>\n",
       "    <tr style=\"text-align: right;\">\n",
       "      <th></th>\n",
       "      <th>NAME</th>\n",
       "      <th>GENDER</th>\n",
       "    </tr>\n",
       "  </thead>\n",
       "  <tbody>\n",
       "    <tr>\n",
       "      <th>0</th>\n",
       "      <td>tracy</td>\n",
       "      <td>[1, 0]</td>\n",
       "    </tr>\n",
       "    <tr>\n",
       "      <th>1</th>\n",
       "      <td>emile</td>\n",
       "      <td>[1, 0]</td>\n",
       "    </tr>\n",
       "    <tr>\n",
       "      <th>2</th>\n",
       "      <td>janaya</td>\n",
       "      <td>[0, 1]</td>\n",
       "    </tr>\n",
       "    <tr>\n",
       "      <th>3</th>\n",
       "      <td>iona</td>\n",
       "      <td>[0, 1]</td>\n",
       "    </tr>\n",
       "    <tr>\n",
       "      <th>4</th>\n",
       "      <td>zerk</td>\n",
       "      <td>[1, 0]</td>\n",
       "    </tr>\n",
       "  </tbody>\n",
       "</table>\n",
       "</div>\n",
       "      <button class=\"colab-df-convert\" onclick=\"convertToInteractive('df-497708d3-07ad-4610-80a4-1d6e7d368193')\"\n",
       "              title=\"Convert this dataframe to an interactive table.\"\n",
       "              style=\"display:none;\">\n",
       "        \n",
       "  <svg xmlns=\"http://www.w3.org/2000/svg\" height=\"24px\"viewBox=\"0 0 24 24\"\n",
       "       width=\"24px\">\n",
       "    <path d=\"M0 0h24v24H0V0z\" fill=\"none\"/>\n",
       "    <path d=\"M18.56 5.44l.94 2.06.94-2.06 2.06-.94-2.06-.94-.94-2.06-.94 2.06-2.06.94zm-11 1L8.5 8.5l.94-2.06 2.06-.94-2.06-.94L8.5 2.5l-.94 2.06-2.06.94zm10 10l.94 2.06.94-2.06 2.06-.94-2.06-.94-.94-2.06-.94 2.06-2.06.94z\"/><path d=\"M17.41 7.96l-1.37-1.37c-.4-.4-.92-.59-1.43-.59-.52 0-1.04.2-1.43.59L10.3 9.45l-7.72 7.72c-.78.78-.78 2.05 0 2.83L4 21.41c.39.39.9.59 1.41.59.51 0 1.02-.2 1.41-.59l7.78-7.78 2.81-2.81c.8-.78.8-2.07 0-2.86zM5.41 20L4 18.59l7.72-7.72 1.47 1.35L5.41 20z\"/>\n",
       "  </svg>\n",
       "      </button>\n",
       "      \n",
       "  <style>\n",
       "    .colab-df-container {\n",
       "      display:flex;\n",
       "      flex-wrap:wrap;\n",
       "      gap: 12px;\n",
       "    }\n",
       "\n",
       "    .colab-df-convert {\n",
       "      background-color: #E8F0FE;\n",
       "      border: none;\n",
       "      border-radius: 50%;\n",
       "      cursor: pointer;\n",
       "      display: none;\n",
       "      fill: #1967D2;\n",
       "      height: 32px;\n",
       "      padding: 0 0 0 0;\n",
       "      width: 32px;\n",
       "    }\n",
       "\n",
       "    .colab-df-convert:hover {\n",
       "      background-color: #E2EBFA;\n",
       "      box-shadow: 0px 1px 2px rgba(60, 64, 67, 0.3), 0px 1px 3px 1px rgba(60, 64, 67, 0.15);\n",
       "      fill: #174EA6;\n",
       "    }\n",
       "\n",
       "    [theme=dark] .colab-df-convert {\n",
       "      background-color: #3B4455;\n",
       "      fill: #D2E3FC;\n",
       "    }\n",
       "\n",
       "    [theme=dark] .colab-df-convert:hover {\n",
       "      background-color: #434B5C;\n",
       "      box-shadow: 0px 1px 3px 1px rgba(0, 0, 0, 0.15);\n",
       "      filter: drop-shadow(0px 1px 2px rgba(0, 0, 0, 0.3));\n",
       "      fill: #FFFFFF;\n",
       "    }\n",
       "  </style>\n",
       "\n",
       "      <script>\n",
       "        const buttonEl =\n",
       "          document.querySelector('#df-497708d3-07ad-4610-80a4-1d6e7d368193 button.colab-df-convert');\n",
       "        buttonEl.style.display =\n",
       "          google.colab.kernel.accessAllowed ? 'block' : 'none';\n",
       "\n",
       "        async function convertToInteractive(key) {\n",
       "          const element = document.querySelector('#df-497708d3-07ad-4610-80a4-1d6e7d368193');\n",
       "          const dataTable =\n",
       "            await google.colab.kernel.invokeFunction('convertToInteractive',\n",
       "                                                     [key], {});\n",
       "          if (!dataTable) return;\n",
       "\n",
       "          const docLinkHtml = 'Like what you see? Visit the ' +\n",
       "            '<a target=\"_blank\" href=https://colab.research.google.com/notebooks/data_table.ipynb>data table notebook</a>'\n",
       "            + ' to learn more about interactive tables.';\n",
       "          element.innerHTML = '';\n",
       "          dataTable['output_type'] = 'display_data';\n",
       "          await google.colab.output.renderOutput(dataTable, element);\n",
       "          const docLink = document.createElement('div');\n",
       "          docLink.innerHTML = docLinkHtml;\n",
       "          element.appendChild(docLink);\n",
       "        }\n",
       "      </script>\n",
       "    </div>\n",
       "  </div>\n",
       "  "
      ],
      "text/plain": [
       "     NAME  GENDER\n",
       "0   tracy  [1, 0]\n",
       "1   emile  [1, 0]\n",
       "2  janaya  [0, 1]\n",
       "3    iona  [0, 1]\n",
       "4    zerk  [1, 0]"
      ]
     },
     "execution_count": 212,
     "metadata": {},
     "output_type": "execute_result"
    }
   ],
   "source": [
    "data = data_preprocess(data)\n",
    "data.head()"
   ]
  },
  {
   "cell_type": "code",
   "execution_count": null,
   "metadata": {
    "id": "hqJzSJOe_fuo"
   },
   "outputs": [],
   "source": [
    "X = data['NAME']\n",
    "y = data['GENDER']"
   ]
  },
  {
   "cell_type": "code",
   "execution_count": null,
   "metadata": {
    "id": "1aNM2p6q4E74"
   },
   "outputs": [],
   "source": [
    "def data_vectorization(data):\n",
    "  # TFIDF\n",
    "  tf_idf_vect = TfidfVectorizer(ngram_range=(1,2), use_idf=True, \n",
    "                                                       analyzer='char',max_features =26,\n",
    "                                                       smooth_idf = True,)\n",
    "  data = tf_idf_vect.fit_transform(data)\n",
    "  return data"
   ]
  },
  {
   "cell_type": "code",
   "execution_count": null,
   "metadata": {
    "id": "CrXlOS-Z5d1d"
   },
   "outputs": [],
   "source": [
    "X = data_vectorization(X)"
   ]
  },
  {
   "cell_type": "code",
   "execution_count": null,
   "metadata": {
    "colab": {
     "base_uri": "https://localhost:8080/"
    },
    "id": "7QMW8f5oAffR",
    "outputId": "9140aa4b-9663-456a-8aeb-2ec4af2c3b0a"
   },
   "outputs": [
    {
     "data": {
      "text/plain": [
       "(7944, 26)"
      ]
     },
     "execution_count": 216,
     "metadata": {},
     "output_type": "execute_result"
    }
   ],
   "source": [
    "X.shape"
   ]
  },
  {
   "cell_type": "code",
   "execution_count": null,
   "metadata": {
    "id": "JFv05cg8HFlC"
   },
   "outputs": [],
   "source": [
    "X = X.toarray().astype('float32')\n",
    "y = np.array([np.array(val) for val in y])"
   ]
  },
  {
   "cell_type": "code",
   "execution_count": null,
   "metadata": {
    "colab": {
     "base_uri": "https://localhost:8080/"
    },
    "id": "QbmTRenh4t3B",
    "outputId": "6830d2f7-e276-45b8-fdcf-123e1c451628"
   },
   "outputs": [
    {
     "data": {
      "text/plain": [
       "((5322, 26), (5322, 2), (2622, 26), (2622, 2))"
      ]
     },
     "execution_count": 219,
     "metadata": {},
     "output_type": "execute_result"
    }
   ],
   "source": [
    "# # Split the data into train test \n",
    "np.random.seed(0)\n",
    "x_train, x_test, y_train, y_test = train_test_split(X, y, test_size=0.33, random_state=42)\n",
    "x_train.shape, y_train.shape, x_test.shape, y_test.shape"
   ]
  },
  {
   "cell_type": "code",
   "execution_count": null,
   "metadata": {
    "colab": {
     "base_uri": "https://localhost:8080/"
    },
    "id": "b85HfvCP6trD",
    "outputId": "48d54ea1-9503-4287-8637-b38d8f6eab91"
   },
   "outputs": [
    {
     "data": {
      "text/plain": [
       "array([[0.2847958 , 0.        , 0.        , ..., 0.        , 0.        ,\n",
       "        0.        ],\n",
       "       [0.36135566, 0.        , 0.        , ..., 0.2943619 , 0.        ,\n",
       "        0.        ],\n",
       "       [0.68328696, 0.        , 0.        , ..., 0.        , 0.        ,\n",
       "        0.        ],\n",
       "       ...,\n",
       "       [0.        , 0.        , 0.        , ..., 0.32705075, 0.        ,\n",
       "        0.        ],\n",
       "       [0.45146254, 0.        , 0.4750885 , ..., 0.        , 0.        ,\n",
       "        0.        ],\n",
       "       [0.21930136, 0.        , 0.        , ..., 0.        , 0.        ,\n",
       "        0.        ]], dtype=float32)"
      ]
     },
     "execution_count": 222,
     "metadata": {},
     "output_type": "execute_result"
    }
   ],
   "source": [
    "x_train"
   ]
  },
  {
   "cell_type": "code",
   "execution_count": null,
   "metadata": {
    "colab": {
     "base_uri": "https://localhost:8080/"
    },
    "id": "DMfCkQXTEJik",
    "outputId": "a9bc7d1d-33b8-4485-b010-10d080837bf5"
   },
   "outputs": [
    {
     "data": {
      "text/plain": [
       "array([[0, 1],\n",
       "       [0, 1],\n",
       "       [0, 1],\n",
       "       ...,\n",
       "       [1, 0],\n",
       "       [0, 1],\n",
       "       [1, 0]])"
      ]
     },
     "execution_count": 223,
     "metadata": {},
     "output_type": "execute_result"
    }
   ],
   "source": [
    "y_train"
   ]
  },
  {
   "cell_type": "markdown",
   "metadata": {
    "id": "MyMYMTEw2kRA"
   },
   "source": [
    "## Task-1 \n",
    "\n",
    "Create a convolutional neural network model with two 1D convolutional layers. Use sigmoid activation and apply a dropout of your desired units after creating the convolution layers. In the end, create a softmax layer. Predict whether the names in test data are male or female. Evaluate your predictions (you can use the scikit learn classification report)."
   ]
  },
  {
   "cell_type": "code",
   "execution_count": null,
   "metadata": {
    "colab": {
     "base_uri": "https://localhost:8080/"
    },
    "id": "toUcWTcv2mzb",
    "outputId": "bd745b1e-a72f-4e36-a6db-75ab2a9343ad"
   },
   "outputs": [
    {
     "name": "stdout",
     "output_type": "stream",
     "text": [
      "Model: \"sequential_87\"\n",
      "_________________________________________________________________\n",
      " Layer (type)                Output Shape              Param #   \n",
      "=================================================================\n",
      " conv1d_106 (Conv1D)         (None, 26, 26)            52        \n",
      "                                                                 \n",
      " conv1d_107 (Conv1D)         (None, 26, 26)            702       \n",
      "                                                                 \n",
      " dropout_60 (Dropout)        (None, 26, 26)            0         \n",
      "                                                                 \n",
      " flatten_43 (Flatten)        (None, 676)               0         \n",
      "                                                                 \n",
      " dense_52 (Dense)            (None, 2)                 1354      \n",
      "                                                                 \n",
      "=================================================================\n",
      "Total params: 2,108\n",
      "Trainable params: 2,108\n",
      "Non-trainable params: 0\n",
      "_________________________________________________________________\n"
     ]
    }
   ],
   "source": [
    "model = keras.Sequential()\n",
    "\n",
    "model.add(layers.Input(shape = [26,1]))\n",
    "model.add(layers.Conv1D(26,kernel_size=1,activation=\"sigmoid\"))\n",
    "model.add(layers.Conv1D(26,kernel_size=1, activation=\"sigmoid\"))\n",
    "model.add(layers.Dropout(0.1))\n",
    "model.add(layers.Flatten())\n",
    "model.add(layers.Dense(units = 2, activation=\"softmax\"))\n",
    "model.summary()\n",
    "model.compile(optimizer=\"Adam\",\n",
    "              loss=\"categorical_crossentropy\",\n",
    "              metrics=[\"accuracy\"])"
   ]
  },
  {
   "cell_type": "code",
   "execution_count": null,
   "metadata": {
    "colab": {
     "base_uri": "https://localhost:8080/"
    },
    "id": "vCPb78vI38Lw",
    "outputId": "59d6a8dc-b6be-4cd2-89b2-4a7a36689e83"
   },
   "outputs": [
    {
     "name": "stdout",
     "output_type": "stream",
     "text": [
      "Epoch 1/45\n",
      "167/167 [==============================] - 2s 6ms/step - loss: 0.6863 - accuracy: 0.6022 - val_loss: 0.6792 - val_accuracy: 0.6293\n",
      "Epoch 2/45\n",
      "167/167 [==============================] - 1s 5ms/step - loss: 0.6718 - accuracy: 0.6094 - val_loss: 0.6599 - val_accuracy: 0.6293\n",
      "Epoch 3/45\n",
      "167/167 [==============================] - 1s 5ms/step - loss: 0.6758 - accuracy: 0.6109 - val_loss: 0.6592 - val_accuracy: 0.6293\n",
      "Epoch 4/45\n",
      "167/167 [==============================] - 1s 5ms/step - loss: 0.6726 - accuracy: 0.6195 - val_loss: 0.6598 - val_accuracy: 0.6293\n",
      "Epoch 5/45\n",
      "167/167 [==============================] - 1s 5ms/step - loss: 0.6682 - accuracy: 0.6219 - val_loss: 0.6621 - val_accuracy: 0.6293\n",
      "Epoch 6/45\n",
      "167/167 [==============================] - 1s 5ms/step - loss: 0.6639 - accuracy: 0.6263 - val_loss: 0.6595 - val_accuracy: 0.6293\n",
      "Epoch 7/45\n",
      "167/167 [==============================] - 1s 5ms/step - loss: 0.6621 - accuracy: 0.6278 - val_loss: 0.6595 - val_accuracy: 0.6293\n",
      "Epoch 8/45\n",
      "167/167 [==============================] - 1s 5ms/step - loss: 0.6603 - accuracy: 0.6308 - val_loss: 0.6551 - val_accuracy: 0.6293\n",
      "Epoch 9/45\n",
      "167/167 [==============================] - 1s 5ms/step - loss: 0.6527 - accuracy: 0.6304 - val_loss: 0.6475 - val_accuracy: 0.6293\n",
      "Epoch 10/45\n",
      "167/167 [==============================] - 1s 5ms/step - loss: 0.6485 - accuracy: 0.6323 - val_loss: 0.6367 - val_accuracy: 0.6293\n",
      "Epoch 11/45\n",
      "167/167 [==============================] - 1s 5ms/step - loss: 0.6386 - accuracy: 0.6362 - val_loss: 0.6226 - val_accuracy: 0.6468\n",
      "Epoch 12/45\n",
      "167/167 [==============================] - 1s 5ms/step - loss: 0.6221 - accuracy: 0.6560 - val_loss: 0.6155 - val_accuracy: 0.6842\n",
      "Epoch 13/45\n",
      "167/167 [==============================] - 1s 5ms/step - loss: 0.6134 - accuracy: 0.6680 - val_loss: 0.6076 - val_accuracy: 0.6617\n",
      "Epoch 14/45\n",
      "167/167 [==============================] - 1s 5ms/step - loss: 0.6057 - accuracy: 0.6719 - val_loss: 0.5940 - val_accuracy: 0.6911\n",
      "Epoch 15/45\n",
      "167/167 [==============================] - 1s 6ms/step - loss: 0.6041 - accuracy: 0.6772 - val_loss: 0.5897 - val_accuracy: 0.6907\n",
      "Epoch 16/45\n",
      "167/167 [==============================] - 1s 6ms/step - loss: 0.5982 - accuracy: 0.6883 - val_loss: 0.5866 - val_accuracy: 0.6957\n",
      "Epoch 17/45\n",
      "167/167 [==============================] - 1s 5ms/step - loss: 0.5965 - accuracy: 0.6851 - val_loss: 0.5862 - val_accuracy: 0.7025\n",
      "Epoch 18/45\n",
      "167/167 [==============================] - 1s 5ms/step - loss: 0.5954 - accuracy: 0.6843 - val_loss: 0.5829 - val_accuracy: 0.7002\n",
      "Epoch 19/45\n",
      "167/167 [==============================] - 1s 6ms/step - loss: 0.5897 - accuracy: 0.6933 - val_loss: 0.5891 - val_accuracy: 0.6953\n",
      "Epoch 20/45\n",
      "167/167 [==============================] - 1s 5ms/step - loss: 0.5871 - accuracy: 0.6956 - val_loss: 0.5801 - val_accuracy: 0.7063\n",
      "Epoch 21/45\n",
      "167/167 [==============================] - 1s 8ms/step - loss: 0.5906 - accuracy: 0.6952 - val_loss: 0.5803 - val_accuracy: 0.7059\n",
      "Epoch 22/45\n",
      "167/167 [==============================] - 1s 9ms/step - loss: 0.5897 - accuracy: 0.6875 - val_loss: 0.5797 - val_accuracy: 0.7048\n",
      "Epoch 23/45\n",
      "167/167 [==============================] - 1s 5ms/step - loss: 0.5892 - accuracy: 0.6894 - val_loss: 0.5800 - val_accuracy: 0.7075\n",
      "Epoch 24/45\n",
      "167/167 [==============================] - 1s 5ms/step - loss: 0.5891 - accuracy: 0.6969 - val_loss: 0.5814 - val_accuracy: 0.7063\n",
      "Epoch 25/45\n",
      "167/167 [==============================] - 1s 5ms/step - loss: 0.5881 - accuracy: 0.6937 - val_loss: 0.5923 - val_accuracy: 0.6861\n",
      "Epoch 26/45\n",
      "167/167 [==============================] - 1s 5ms/step - loss: 0.5861 - accuracy: 0.6964 - val_loss: 0.5781 - val_accuracy: 0.7056\n",
      "Epoch 27/45\n",
      "167/167 [==============================] - 1s 5ms/step - loss: 0.5822 - accuracy: 0.6988 - val_loss: 0.5776 - val_accuracy: 0.7067\n",
      "Epoch 28/45\n",
      "167/167 [==============================] - 1s 5ms/step - loss: 0.5852 - accuracy: 0.6995 - val_loss: 0.5788 - val_accuracy: 0.7071\n",
      "Epoch 29/45\n",
      "167/167 [==============================] - 1s 5ms/step - loss: 0.5848 - accuracy: 0.6922 - val_loss: 0.5777 - val_accuracy: 0.7094\n",
      "Epoch 30/45\n",
      "167/167 [==============================] - 1s 5ms/step - loss: 0.5819 - accuracy: 0.7044 - val_loss: 0.5773 - val_accuracy: 0.7117\n",
      "Epoch 31/45\n",
      "167/167 [==============================] - 1s 5ms/step - loss: 0.5838 - accuracy: 0.6986 - val_loss: 0.5780 - val_accuracy: 0.7101\n",
      "Epoch 32/45\n",
      "167/167 [==============================] - 1s 5ms/step - loss: 0.5843 - accuracy: 0.7024 - val_loss: 0.5881 - val_accuracy: 0.6915\n",
      "Epoch 33/45\n",
      "167/167 [==============================] - 1s 5ms/step - loss: 0.5836 - accuracy: 0.7027 - val_loss: 0.5788 - val_accuracy: 0.7090\n",
      "Epoch 34/45\n",
      "167/167 [==============================] - 1s 5ms/step - loss: 0.5825 - accuracy: 0.7027 - val_loss: 0.5784 - val_accuracy: 0.7086\n",
      "Epoch 35/45\n",
      "167/167 [==============================] - 1s 5ms/step - loss: 0.5832 - accuracy: 0.7001 - val_loss: 0.5768 - val_accuracy: 0.7136\n",
      "Epoch 36/45\n",
      "167/167 [==============================] - 1s 5ms/step - loss: 0.5838 - accuracy: 0.6954 - val_loss: 0.5774 - val_accuracy: 0.7121\n",
      "Epoch 37/45\n",
      "167/167 [==============================] - 1s 5ms/step - loss: 0.5860 - accuracy: 0.6933 - val_loss: 0.5766 - val_accuracy: 0.7101\n",
      "Epoch 38/45\n",
      "167/167 [==============================] - 1s 5ms/step - loss: 0.5824 - accuracy: 0.7012 - val_loss: 0.5762 - val_accuracy: 0.7128\n",
      "Epoch 39/45\n",
      "167/167 [==============================] - 1s 5ms/step - loss: 0.5858 - accuracy: 0.6988 - val_loss: 0.5758 - val_accuracy: 0.7117\n",
      "Epoch 40/45\n",
      "167/167 [==============================] - 1s 5ms/step - loss: 0.5816 - accuracy: 0.6995 - val_loss: 0.5760 - val_accuracy: 0.7140\n",
      "Epoch 41/45\n",
      "167/167 [==============================] - 1s 5ms/step - loss: 0.5817 - accuracy: 0.6962 - val_loss: 0.5762 - val_accuracy: 0.7147\n",
      "Epoch 42/45\n",
      "167/167 [==============================] - 1s 5ms/step - loss: 0.5834 - accuracy: 0.7020 - val_loss: 0.5760 - val_accuracy: 0.7143\n",
      "Epoch 43/45\n",
      "167/167 [==============================] - 1s 5ms/step - loss: 0.5813 - accuracy: 0.7001 - val_loss: 0.5819 - val_accuracy: 0.7048\n",
      "Epoch 44/45\n",
      "167/167 [==============================] - 1s 5ms/step - loss: 0.5824 - accuracy: 0.6997 - val_loss: 0.5755 - val_accuracy: 0.7155\n",
      "Epoch 45/45\n",
      "167/167 [==============================] - 1s 5ms/step - loss: 0.5834 - accuracy: 0.7022 - val_loss: 0.5797 - val_accuracy: 0.7033\n"
     ]
    }
   ],
   "source": [
    "history = model.fit(x_train,\n",
    "                    y_train,\n",
    "                    epochs=45,\n",
    "                    validation_data=(x_test, y_test))"
   ]
  },
  {
   "cell_type": "code",
   "execution_count": null,
   "metadata": {
    "colab": {
     "base_uri": "https://localhost:8080/"
    },
    "id": "iQ5t9GZ0SMqJ",
    "outputId": "fa8191b2-312f-467c-e5d5-c1a0eadc0bd9"
   },
   "outputs": [
    {
     "name": "stdout",
     "output_type": "stream",
     "text": [
      "82/82 [==============================] - 0s 2ms/step\n"
     ]
    }
   ],
   "source": [
    "y_pred = model.predict(x_test)"
   ]
  },
  {
   "cell_type": "code",
   "execution_count": null,
   "metadata": {
    "colab": {
     "base_uri": "https://localhost:8080/"
    },
    "id": "hb3QPlcni8Mc",
    "outputId": "8f07eaa6-7ec4-4a5b-b6c7-95f9b0cda5c2"
   },
   "outputs": [
    {
     "name": "stdout",
     "output_type": "stream",
     "text": [
      "82/82 [==============================] - 0s 2ms/step - loss: 0.5797 - accuracy: 0.7033\n"
     ]
    },
    {
     "data": {
      "text/plain": [
       "(0.5797165036201477, 0.7032799124717712)"
      ]
     },
     "execution_count": 303,
     "metadata": {},
     "output_type": "execute_result"
    }
   ],
   "source": [
    "score, acc = model.evaluate(x_test, y_test)\n",
    "score, acc"
   ]
  },
  {
   "cell_type": "code",
   "execution_count": null,
   "metadata": {
    "colab": {
     "base_uri": "https://localhost:8080/"
    },
    "id": "z8mUEBIsfLkn",
    "outputId": "936d659a-1093-460b-89d4-de138a2257ba"
   },
   "outputs": [
    {
     "data": {
      "text/plain": [
       "array([0.47874552, 0.5212544 ], dtype=float32)"
      ]
     },
     "execution_count": 304,
     "metadata": {},
     "output_type": "execute_result"
    }
   ],
   "source": [
    "y_pred[0]"
   ]
  },
  {
   "cell_type": "code",
   "execution_count": null,
   "metadata": {
    "colab": {
     "base_uri": "https://localhost:8080/"
    },
    "id": "_IIhNB2E_Lya",
    "outputId": "b7b063bc-75ac-4464-c00e-d0f76287127d"
   },
   "outputs": [
    {
     "name": "stdout",
     "output_type": "stream",
     "text": [
      "              precision    recall  f1-score   support\n",
      "\n",
      "      Female       0.61      0.54      0.57       972\n",
      "        Male       0.75      0.80      0.77      1650\n",
      "\n",
      "    accuracy                           0.70      2622\n",
      "   macro avg       0.68      0.67      0.67      2622\n",
      "weighted avg       0.70      0.70      0.70      2622\n",
      "\n"
     ]
    }
   ],
   "source": [
    "print(classification_report(np.argmax(y_test, axis=1), np.argmax(y_pred, axis=1), target_names=['Female', 'Male']))"
   ]
  },
  {
   "cell_type": "markdown",
   "metadata": {
    "id": "xh_0kZiQOHKm"
   },
   "source": [
    "## Task-2\n",
    "Create a simple sequential model with an LSTM layer of your desired units. Use sigmoid activation. Predict whether the names in test data are male or female. Evaluate your predictions (you can use the scikit learn classification report)."
   ]
  },
  {
   "cell_type": "code",
   "execution_count": null,
   "metadata": {
    "colab": {
     "base_uri": "https://localhost:8080/"
    },
    "id": "tk24HvJmXC--",
    "outputId": "94f1ea56-6cbf-410a-9c63-6cdd01693ab3"
   },
   "outputs": [
    {
     "name": "stdout",
     "output_type": "stream",
     "text": [
      "Model: \"sequential_53\"\n",
      "_________________________________________________________________\n",
      " Layer (type)                Output Shape              Param #   \n",
      "=================================================================\n",
      " lstm_1 (LSTM)               (None, 26, 26)            2912      \n",
      "                                                                 \n",
      " flatten_26 (Flatten)        (None, 676)               0         \n",
      "                                                                 \n",
      " dense_35 (Dense)            (None, 2)                 1354      \n",
      "                                                                 \n",
      "=================================================================\n",
      "Total params: 4,266\n",
      "Trainable params: 4,266\n",
      "Non-trainable params: 0\n",
      "_________________________________________________________________\n"
     ]
    }
   ],
   "source": [
    "model2 = keras.Sequential()\n",
    "\n",
    "model2.add(layers.Input(shape = [26,1]))\n",
    "model2.add(layers.LSTM(26, return_sequences = True, activation='sigmoid'))\n",
    "model2.add(layers.Flatten())\n",
    "model2.add(layers.Dense(units = 2, activation=\"softmax\"))\n",
    "model2.summary()\n",
    "model2.compile(optimizer=\"Adam\",\n",
    "              loss=\"categorical_crossentropy\",\n",
    "              metrics=[\"accuracy\"])"
   ]
  },
  {
   "cell_type": "code",
   "execution_count": null,
   "metadata": {
    "colab": {
     "base_uri": "https://localhost:8080/"
    },
    "id": "ozivPvh0PMUI",
    "outputId": "f008638f-20c4-408e-a4ad-21c1332b7b74"
   },
   "outputs": [
    {
     "name": "stdout",
     "output_type": "stream",
     "text": [
      "Epoch 1/45\n",
      "167/167 [==============================] - 4s 17ms/step - loss: 0.6676 - accuracy: 0.6297 - val_loss: 0.6698 - val_accuracy: 0.6293\n",
      "Epoch 2/45\n",
      "167/167 [==============================] - 2s 15ms/step - loss: 0.6693 - accuracy: 0.6257 - val_loss: 0.6601 - val_accuracy: 0.6293\n",
      "Epoch 3/45\n",
      "167/167 [==============================] - 3s 16ms/step - loss: 0.6635 - accuracy: 0.6300 - val_loss: 0.6802 - val_accuracy: 0.6293\n",
      "Epoch 4/45\n",
      "167/167 [==============================] - 3s 16ms/step - loss: 0.6628 - accuracy: 0.6233 - val_loss: 0.6541 - val_accuracy: 0.6293\n",
      "Epoch 5/45\n",
      "167/167 [==============================] - 3s 16ms/step - loss: 0.6582 - accuracy: 0.6297 - val_loss: 0.6530 - val_accuracy: 0.6293\n",
      "Epoch 6/45\n",
      "167/167 [==============================] - 3s 15ms/step - loss: 0.6547 - accuracy: 0.6276 - val_loss: 0.6607 - val_accuracy: 0.6293\n",
      "Epoch 7/45\n",
      "167/167 [==============================] - 3s 15ms/step - loss: 0.6502 - accuracy: 0.6285 - val_loss: 0.6520 - val_accuracy: 0.6465\n",
      "Epoch 8/45\n",
      "167/167 [==============================] - 3s 15ms/step - loss: 0.6462 - accuracy: 0.6340 - val_loss: 0.6379 - val_accuracy: 0.6453\n",
      "Epoch 9/45\n",
      "167/167 [==============================] - 3s 16ms/step - loss: 0.6383 - accuracy: 0.6469 - val_loss: 0.6290 - val_accuracy: 0.6293\n",
      "Epoch 10/45\n",
      "167/167 [==============================] - 3s 15ms/step - loss: 0.6305 - accuracy: 0.6456 - val_loss: 0.6364 - val_accuracy: 0.6293\n",
      "Epoch 11/45\n",
      "167/167 [==============================] - 2s 15ms/step - loss: 0.6186 - accuracy: 0.6657 - val_loss: 0.6075 - val_accuracy: 0.6716\n",
      "Epoch 12/45\n",
      "167/167 [==============================] - 3s 15ms/step - loss: 0.6097 - accuracy: 0.6749 - val_loss: 0.6005 - val_accuracy: 0.6770\n",
      "Epoch 13/45\n",
      "167/167 [==============================] - 3s 15ms/step - loss: 0.6070 - accuracy: 0.6762 - val_loss: 0.5983 - val_accuracy: 0.6766\n",
      "Epoch 14/45\n",
      "167/167 [==============================] - 3s 15ms/step - loss: 0.6027 - accuracy: 0.6825 - val_loss: 0.5931 - val_accuracy: 0.6918\n",
      "Epoch 15/45\n",
      "167/167 [==============================] - 3s 16ms/step - loss: 0.5977 - accuracy: 0.6860 - val_loss: 0.5918 - val_accuracy: 0.6831\n",
      "Epoch 16/45\n",
      "167/167 [==============================] - 3s 16ms/step - loss: 0.5945 - accuracy: 0.6866 - val_loss: 0.5978 - val_accuracy: 0.6918\n",
      "Epoch 17/45\n",
      "167/167 [==============================] - 3s 16ms/step - loss: 0.5914 - accuracy: 0.6949 - val_loss: 0.5857 - val_accuracy: 0.6903\n",
      "Epoch 18/45\n",
      "167/167 [==============================] - 3s 16ms/step - loss: 0.5869 - accuracy: 0.6975 - val_loss: 0.5828 - val_accuracy: 0.7033\n",
      "Epoch 19/45\n",
      "167/167 [==============================] - 4s 22ms/step - loss: 0.5901 - accuracy: 0.6941 - val_loss: 0.6093 - val_accuracy: 0.6754\n",
      "Epoch 20/45\n",
      "167/167 [==============================] - 4s 23ms/step - loss: 0.5882 - accuracy: 0.6999 - val_loss: 0.6000 - val_accuracy: 0.6827\n",
      "Epoch 21/45\n",
      "167/167 [==============================] - 3s 16ms/step - loss: 0.5873 - accuracy: 0.6952 - val_loss: 0.6028 - val_accuracy: 0.6766\n",
      "Epoch 22/45\n",
      "167/167 [==============================] - 3s 16ms/step - loss: 0.5851 - accuracy: 0.6994 - val_loss: 0.5791 - val_accuracy: 0.7040\n",
      "Epoch 23/45\n",
      "167/167 [==============================] - 3s 16ms/step - loss: 0.5809 - accuracy: 0.6967 - val_loss: 0.5800 - val_accuracy: 0.7044\n",
      "Epoch 24/45\n",
      "167/167 [==============================] - 4s 22ms/step - loss: 0.5843 - accuracy: 0.7009 - val_loss: 0.5829 - val_accuracy: 0.6987\n",
      "Epoch 25/45\n",
      "167/167 [==============================] - 3s 16ms/step - loss: 0.5828 - accuracy: 0.7042 - val_loss: 0.5787 - val_accuracy: 0.7121\n",
      "Epoch 26/45\n",
      "167/167 [==============================] - 3s 18ms/step - loss: 0.5814 - accuracy: 0.7080 - val_loss: 0.5848 - val_accuracy: 0.6953\n",
      "Epoch 27/45\n",
      "167/167 [==============================] - 3s 16ms/step - loss: 0.5819 - accuracy: 0.7050 - val_loss: 0.5902 - val_accuracy: 0.6888\n",
      "Epoch 28/45\n",
      "167/167 [==============================] - 3s 16ms/step - loss: 0.5808 - accuracy: 0.7022 - val_loss: 0.5798 - val_accuracy: 0.7086\n",
      "Epoch 29/45\n",
      "167/167 [==============================] - 3s 16ms/step - loss: 0.5785 - accuracy: 0.7035 - val_loss: 0.5828 - val_accuracy: 0.6945\n",
      "Epoch 30/45\n",
      "167/167 [==============================] - 3s 17ms/step - loss: 0.5806 - accuracy: 0.7048 - val_loss: 0.5826 - val_accuracy: 0.6968\n",
      "Epoch 31/45\n",
      "167/167 [==============================] - 3s 16ms/step - loss: 0.5805 - accuracy: 0.7046 - val_loss: 0.5920 - val_accuracy: 0.6907\n",
      "Epoch 32/45\n",
      "167/167 [==============================] - 3s 17ms/step - loss: 0.5805 - accuracy: 0.7044 - val_loss: 0.5767 - val_accuracy: 0.7155\n",
      "Epoch 33/45\n",
      "167/167 [==============================] - 3s 15ms/step - loss: 0.5812 - accuracy: 0.7027 - val_loss: 0.5767 - val_accuracy: 0.7155\n",
      "Epoch 34/45\n",
      "167/167 [==============================] - 3s 15ms/step - loss: 0.5792 - accuracy: 0.7056 - val_loss: 0.5774 - val_accuracy: 0.7128\n",
      "Epoch 35/45\n",
      "167/167 [==============================] - 3s 15ms/step - loss: 0.5772 - accuracy: 0.7069 - val_loss: 0.5785 - val_accuracy: 0.7067\n",
      "Epoch 36/45\n",
      "167/167 [==============================] - 3s 16ms/step - loss: 0.5771 - accuracy: 0.7063 - val_loss: 0.5791 - val_accuracy: 0.7014\n",
      "Epoch 37/45\n",
      "167/167 [==============================] - 3s 16ms/step - loss: 0.5784 - accuracy: 0.7041 - val_loss: 0.5795 - val_accuracy: 0.6998\n",
      "Epoch 38/45\n",
      "167/167 [==============================] - 3s 16ms/step - loss: 0.5800 - accuracy: 0.7037 - val_loss: 0.5760 - val_accuracy: 0.7159\n",
      "Epoch 39/45\n",
      "167/167 [==============================] - 3s 16ms/step - loss: 0.5783 - accuracy: 0.7065 - val_loss: 0.5986 - val_accuracy: 0.6819\n",
      "Epoch 40/45\n",
      "167/167 [==============================] - 3s 16ms/step - loss: 0.5839 - accuracy: 0.7009 - val_loss: 0.5798 - val_accuracy: 0.7002\n",
      "Epoch 41/45\n",
      "167/167 [==============================] - 3s 16ms/step - loss: 0.5756 - accuracy: 0.7059 - val_loss: 0.5811 - val_accuracy: 0.7105\n",
      "Epoch 42/45\n",
      "167/167 [==============================] - 3s 16ms/step - loss: 0.5796 - accuracy: 0.7054 - val_loss: 0.5762 - val_accuracy: 0.7147\n",
      "Epoch 43/45\n",
      "167/167 [==============================] - 3s 15ms/step - loss: 0.5782 - accuracy: 0.7059 - val_loss: 0.5769 - val_accuracy: 0.7151\n",
      "Epoch 44/45\n",
      "167/167 [==============================] - 4s 23ms/step - loss: 0.5767 - accuracy: 0.7063 - val_loss: 0.6006 - val_accuracy: 0.6796\n",
      "Epoch 45/45\n",
      "167/167 [==============================] - 4s 22ms/step - loss: 0.5778 - accuracy: 0.7033 - val_loss: 0.5788 - val_accuracy: 0.7147\n"
     ]
    }
   ],
   "source": [
    "history = model2.fit(x_train,\n",
    "                    y_train,\n",
    "                    epochs=45,\n",
    "                    validation_data=(x_test, y_test))"
   ]
  },
  {
   "cell_type": "code",
   "execution_count": null,
   "metadata": {
    "colab": {
     "base_uri": "https://localhost:8080/"
    },
    "id": "WEZErrurPMUI",
    "outputId": "d80654a6-dc4a-4075-af68-7a828becc5ba"
   },
   "outputs": [
    {
     "name": "stdout",
     "output_type": "stream",
     "text": [
      "82/82 [==============================] - 1s 5ms/step\n"
     ]
    }
   ],
   "source": [
    "lstm_pred = model2.predict(x_test)"
   ]
  },
  {
   "cell_type": "code",
   "execution_count": null,
   "metadata": {
    "colab": {
     "base_uri": "https://localhost:8080/"
    },
    "id": "6NvqwmJ3PMUI",
    "outputId": "4c833c57-3cc6-4760-813f-02cdb3c45a15"
   },
   "outputs": [
    {
     "data": {
      "text/plain": [
       "array([[0, 1],\n",
       "       [0, 1],\n",
       "       [0, 1],\n",
       "       ...,\n",
       "       [0, 1],\n",
       "       [0, 1],\n",
       "       [0, 1]])"
      ]
     },
     "execution_count": 236,
     "metadata": {},
     "output_type": "execute_result"
    }
   ],
   "source": [
    "y_test"
   ]
  },
  {
   "cell_type": "code",
   "execution_count": null,
   "metadata": {
    "colab": {
     "base_uri": "https://localhost:8080/"
    },
    "id": "Cp5mX1K2PMUI",
    "outputId": "c0cf079c-0e7e-494b-c828-219aa895092c"
   },
   "outputs": [
    {
     "name": "stdout",
     "output_type": "stream",
     "text": [
      "82/82 [==============================] - 0s 5ms/step - loss: 0.5788 - accuracy: 0.7147\n"
     ]
    },
    {
     "data": {
      "text/plain": [
       "(0.578752338886261, 0.7147215604782104)"
      ]
     },
     "execution_count": 237,
     "metadata": {},
     "output_type": "execute_result"
    }
   ],
   "source": [
    "score, acc = model2.evaluate(x_test, y_test)\n",
    "score, acc"
   ]
  },
  {
   "cell_type": "code",
   "execution_count": null,
   "metadata": {
    "colab": {
     "base_uri": "https://localhost:8080/"
    },
    "id": "Qoi6Mc1-PMUI",
    "outputId": "6bbbae1b-c354-4b22-ac5b-c70a5fbae5ca"
   },
   "outputs": [
    {
     "data": {
      "text/plain": [
       "array([0.38531438, 0.61468554], dtype=float32)"
      ]
     },
     "execution_count": 238,
     "metadata": {},
     "output_type": "execute_result"
    }
   ],
   "source": [
    "y_pred[0]"
   ]
  },
  {
   "cell_type": "code",
   "execution_count": null,
   "metadata": {
    "colab": {
     "base_uri": "https://localhost:8080/"
    },
    "id": "H7OIwWgyPMUI",
    "outputId": "269f5fef-6171-4277-9207-405b3341c97a"
   },
   "outputs": [
    {
     "name": "stdout",
     "output_type": "stream",
     "text": [
      "              precision    recall  f1-score   support\n",
      "\n",
      "      Female       0.70      0.40      0.51       972\n",
      "        Male       0.72      0.90      0.80      1650\n",
      "\n",
      "    accuracy                           0.71      2622\n",
      "   macro avg       0.71      0.65      0.65      2622\n",
      "weighted avg       0.71      0.71      0.69      2622\n",
      "\n"
     ]
    }
   ],
   "source": [
    "print(classification_report(np.argmax(y_test, axis=1), np.argmax(lstm_pred, axis=1),target_names=['Female', 'Male']))"
   ]
  },
  {
   "cell_type": "markdown",
   "metadata": {
    "id": "K1iZ2gCiQkYp"
   },
   "source": [
    "## Task-3\n",
    "Mixing LSTM and CNN for prediction. Combine LSTM and CNN layers (e.g., LSTM layer followed by CNN layer, etc.) to make predictions. Try different activation functions and dropout rates and report your results."
   ]
  },
  {
   "cell_type": "code",
   "execution_count": null,
   "metadata": {
    "colab": {
     "base_uri": "https://localhost:8080/"
    },
    "id": "VzJtn0nvQjTq",
    "outputId": "35e00ee8-5896-4d55-9f18-32bebae28fe2"
   },
   "outputs": [
    {
     "name": "stdout",
     "output_type": "stream",
     "text": [
      "Model: \"sequential_84\"\n",
      "_________________________________________________________________\n",
      " Layer (type)                Output Shape              Param #   \n",
      "=================================================================\n",
      " lstm_28 (LSTM)              (None, 26, 26)            2912      \n",
      "                                                                 \n",
      " reshape_15 (Reshape)        (None, 676, 1)            0         \n",
      "                                                                 \n",
      " conv1d_103 (Conv1D)         (None, 676, 26)           52        \n",
      "                                                                 \n",
      " dropout_58 (Dropout)        (None, 676, 26)           0         \n",
      "                                                                 \n",
      " flatten_41 (Flatten)        (None, 17576)             0         \n",
      "                                                                 \n",
      " dense_50 (Dense)            (None, 2)                 35154     \n",
      "                                                                 \n",
      "=================================================================\n",
      "Total params: 38,118\n",
      "Trainable params: 38,118\n",
      "Non-trainable params: 0\n",
      "_________________________________________________________________\n"
     ]
    }
   ],
   "source": [
    "model3 = keras.Sequential()\n",
    "\n",
    "model3.add(layers.Input(shape = [26,1]))\n",
    "model3.add(layers.LSTM(26,return_sequences= True,activation='relu'))\n",
    "model3.add(layers.Reshape((676,1)))\n",
    "model3.add(layers.Conv1D(26,kernel_size=1, activation=\"relu\"))\n",
    "model3.add(layers.Dropout(0.1))\n",
    "model3.add(layers.Flatten())\n",
    "model3.add(layers.Dense(units = 2, activation=\"softmax\"))\n",
    "model3.summary()\n",
    "model3.compile(optimizer=\"Adam\",\n",
    "              loss=\"categorical_crossentropy\",\n",
    "              metrics=[\"accuracy\"])"
   ]
  },
  {
   "cell_type": "code",
   "execution_count": null,
   "metadata": {
    "colab": {
     "base_uri": "https://localhost:8080/"
    },
    "id": "Z0qpIpH3RLw2",
    "outputId": "318d577c-3423-41e6-80e0-080e64432844"
   },
   "outputs": [
    {
     "name": "stdout",
     "output_type": "stream",
     "text": [
      "Epoch 1/40\n",
      "167/167 [==============================] - 5s 32ms/step - loss: 0.5464 - accuracy: 0.7266 - val_loss: 0.5678 - val_accuracy: 0.7159\n",
      "Epoch 2/40\n",
      "167/167 [==============================] - 5s 32ms/step - loss: 0.5455 - accuracy: 0.7221 - val_loss: 0.5721 - val_accuracy: 0.7170\n",
      "Epoch 3/40\n",
      "167/167 [==============================] - 5s 33ms/step - loss: 0.5458 - accuracy: 0.7262 - val_loss: 0.5656 - val_accuracy: 0.7197\n",
      "Epoch 4/40\n",
      "167/167 [==============================] - 5s 32ms/step - loss: 0.5417 - accuracy: 0.7270 - val_loss: 0.5688 - val_accuracy: 0.7082\n",
      "Epoch 5/40\n",
      "167/167 [==============================] - 6s 38ms/step - loss: 0.5419 - accuracy: 0.7274 - val_loss: 0.5689 - val_accuracy: 0.7090\n",
      "Epoch 6/40\n",
      "167/167 [==============================] - 5s 32ms/step - loss: 0.5414 - accuracy: 0.7260 - val_loss: 0.5667 - val_accuracy: 0.7090\n",
      "Epoch 7/40\n",
      "167/167 [==============================] - 5s 32ms/step - loss: 0.5423 - accuracy: 0.7262 - val_loss: 0.5716 - val_accuracy: 0.7052\n",
      "Epoch 8/40\n",
      "167/167 [==============================] - 6s 34ms/step - loss: 0.5429 - accuracy: 0.7240 - val_loss: 0.5668 - val_accuracy: 0.7155\n",
      "Epoch 9/40\n",
      "167/167 [==============================] - 7s 39ms/step - loss: 0.5377 - accuracy: 0.7302 - val_loss: 0.5820 - val_accuracy: 0.6941\n",
      "Epoch 10/40\n",
      "167/167 [==============================] - 5s 32ms/step - loss: 0.5371 - accuracy: 0.7285 - val_loss: 0.5647 - val_accuracy: 0.7117\n",
      "Epoch 11/40\n",
      "167/167 [==============================] - 5s 32ms/step - loss: 0.5376 - accuracy: 0.7274 - val_loss: 0.5670 - val_accuracy: 0.7082\n",
      "Epoch 12/40\n",
      "167/167 [==============================] - 5s 32ms/step - loss: 0.5379 - accuracy: 0.7307 - val_loss: 0.5626 - val_accuracy: 0.7182\n",
      "Epoch 13/40\n",
      "167/167 [==============================] - 6s 33ms/step - loss: 0.5372 - accuracy: 0.7304 - val_loss: 0.5619 - val_accuracy: 0.7231\n",
      "Epoch 14/40\n",
      "167/167 [==============================] - 5s 32ms/step - loss: 0.5337 - accuracy: 0.7337 - val_loss: 0.5733 - val_accuracy: 0.7018\n",
      "Epoch 15/40\n",
      "167/167 [==============================] - 5s 32ms/step - loss: 0.5327 - accuracy: 0.7337 - val_loss: 0.5648 - val_accuracy: 0.7201\n",
      "Epoch 16/40\n",
      "167/167 [==============================] - 6s 39ms/step - loss: 0.5331 - accuracy: 0.7332 - val_loss: 0.5802 - val_accuracy: 0.6976\n",
      "Epoch 17/40\n",
      "167/167 [==============================] - 5s 32ms/step - loss: 0.5326 - accuracy: 0.7309 - val_loss: 0.5644 - val_accuracy: 0.7143\n",
      "Epoch 18/40\n",
      "167/167 [==============================] - 5s 33ms/step - loss: 0.5320 - accuracy: 0.7332 - val_loss: 0.5686 - val_accuracy: 0.7094\n",
      "Epoch 19/40\n",
      "167/167 [==============================] - 6s 34ms/step - loss: 0.5321 - accuracy: 0.7354 - val_loss: 0.5644 - val_accuracy: 0.7185\n",
      "Epoch 20/40\n",
      "167/167 [==============================] - 6s 33ms/step - loss: 0.5317 - accuracy: 0.7330 - val_loss: 0.5657 - val_accuracy: 0.7159\n",
      "Epoch 21/40\n",
      "167/167 [==============================] - 5s 33ms/step - loss: 0.5281 - accuracy: 0.7366 - val_loss: 0.5677 - val_accuracy: 0.7113\n",
      "Epoch 22/40\n",
      "167/167 [==============================] - 6s 39ms/step - loss: 0.5280 - accuracy: 0.7364 - val_loss: 0.5658 - val_accuracy: 0.7193\n",
      "Epoch 23/40\n",
      "167/167 [==============================] - 5s 33ms/step - loss: 0.5295 - accuracy: 0.7364 - val_loss: 0.5644 - val_accuracy: 0.7128\n",
      "Epoch 24/40\n",
      "167/167 [==============================] - 10s 62ms/step - loss: 0.5272 - accuracy: 0.7330 - val_loss: 0.5639 - val_accuracy: 0.7140\n",
      "Epoch 25/40\n",
      "167/167 [==============================] - 10s 62ms/step - loss: 0.5268 - accuracy: 0.7396 - val_loss: 0.5713 - val_accuracy: 0.7086\n",
      "Epoch 26/40\n",
      "167/167 [==============================] - 12s 73ms/step - loss: 0.5264 - accuracy: 0.7364 - val_loss: 0.5691 - val_accuracy: 0.7086\n",
      "Epoch 27/40\n",
      "167/167 [==============================] - 7s 43ms/step - loss: 0.5267 - accuracy: 0.7398 - val_loss: 0.5759 - val_accuracy: 0.7006\n",
      "Epoch 28/40\n",
      "167/167 [==============================] - 5s 32ms/step - loss: 0.5272 - accuracy: 0.7369 - val_loss: 0.5651 - val_accuracy: 0.7193\n",
      "Epoch 29/40\n",
      "167/167 [==============================] - 7s 39ms/step - loss: 0.5216 - accuracy: 0.7416 - val_loss: 0.5802 - val_accuracy: 0.7006\n",
      "Epoch 30/40\n",
      "167/167 [==============================] - 6s 35ms/step - loss: 0.5254 - accuracy: 0.7426 - val_loss: 0.5686 - val_accuracy: 0.7136\n",
      "Epoch 31/40\n",
      "167/167 [==============================] - 7s 45ms/step - loss: 0.5228 - accuracy: 0.7456 - val_loss: 0.5688 - val_accuracy: 0.7059\n",
      "Epoch 32/40\n",
      "167/167 [==============================] - 6s 34ms/step - loss: 0.5213 - accuracy: 0.7407 - val_loss: 0.5707 - val_accuracy: 0.7090\n",
      "Epoch 33/40\n",
      "167/167 [==============================] - 6s 34ms/step - loss: 0.5227 - accuracy: 0.7386 - val_loss: 0.5662 - val_accuracy: 0.7182\n",
      "Epoch 34/40\n",
      "167/167 [==============================] - 5s 32ms/step - loss: 0.5207 - accuracy: 0.7426 - val_loss: 0.5750 - val_accuracy: 0.7101\n",
      "Epoch 35/40\n",
      "167/167 [==============================] - 6s 38ms/step - loss: 0.5235 - accuracy: 0.7369 - val_loss: 0.5728 - val_accuracy: 0.7056\n",
      "Epoch 36/40\n",
      "167/167 [==============================] - 6s 35ms/step - loss: 0.5169 - accuracy: 0.7454 - val_loss: 0.5776 - val_accuracy: 0.7082\n",
      "Epoch 37/40\n",
      "167/167 [==============================] - 6s 33ms/step - loss: 0.5211 - accuracy: 0.7394 - val_loss: 0.5726 - val_accuracy: 0.7075\n",
      "Epoch 38/40\n",
      "167/167 [==============================] - 5s 32ms/step - loss: 0.5181 - accuracy: 0.7381 - val_loss: 0.5678 - val_accuracy: 0.7170\n",
      "Epoch 39/40\n",
      "167/167 [==============================] - 5s 33ms/step - loss: 0.5179 - accuracy: 0.7411 - val_loss: 0.5671 - val_accuracy: 0.7166\n",
      "Epoch 40/40\n",
      "167/167 [==============================] - 5s 32ms/step - loss: 0.5194 - accuracy: 0.7435 - val_loss: 0.5704 - val_accuracy: 0.7079\n"
     ]
    }
   ],
   "source": [
    "history = model3.fit(x_train,\n",
    "                    y_train,\n",
    "                    epochs=40,\n",
    "                    validation_data=(x_test, y_test))"
   ]
  },
  {
   "cell_type": "code",
   "execution_count": null,
   "metadata": {
    "colab": {
     "base_uri": "https://localhost:8080/"
    },
    "id": "XEqYmbWdRMTt",
    "outputId": "d461902f-6287-4b2c-8d9d-95f5baf3f9b1"
   },
   "outputs": [
    {
     "name": "stdout",
     "output_type": "stream",
     "text": [
      "82/82 [==============================] - 1s 8ms/step\n"
     ]
    }
   ],
   "source": [
    "lstm_cnn_pred = model3.predict(x_test)"
   ]
  },
  {
   "cell_type": "code",
   "execution_count": null,
   "metadata": {
    "colab": {
     "base_uri": "https://localhost:8080/"
    },
    "id": "EKGFqXYTZmYD",
    "outputId": "20c9af4f-da8b-4dc4-c796-3ffa6a55c3ca"
   },
   "outputs": [
    {
     "data": {
      "text/plain": [
       "(2622, 26)"
      ]
     },
     "execution_count": 293,
     "metadata": {},
     "output_type": "execute_result"
    }
   ],
   "source": [
    "x_test.shape"
   ]
  },
  {
   "cell_type": "code",
   "execution_count": null,
   "metadata": {
    "colab": {
     "base_uri": "https://localhost:8080/"
    },
    "id": "lJ8dsQZpZpH5",
    "outputId": "1f6697b0-d33a-44b5-cee5-9be52ac090ef"
   },
   "outputs": [
    {
     "data": {
      "text/plain": [
       "array([0.18185312, 0.        , 0.        , 0.        , 0.        ,\n",
       "       0.        , 0.37458158, 0.        , 0.41271752, 0.        ,\n",
       "       0.34091166, 0.21207339, 0.        , 0.        , 0.        ,\n",
       "       0.        , 0.        , 0.        , 0.        , 0.        ,\n",
       "       0.22250277, 0.        , 0.30734256, 0.5925534 , 0.        ,\n",
       "       0.        ], dtype=float32)"
      ]
     },
     "execution_count": 294,
     "metadata": {},
     "output_type": "execute_result"
    }
   ],
   "source": [
    "x_test[0]"
   ]
  },
  {
   "cell_type": "code",
   "execution_count": null,
   "metadata": {
    "colab": {
     "base_uri": "https://localhost:8080/"
    },
    "id": "zfMp1v0fZajq",
    "outputId": "d982db78-ece1-46be-969f-83cf3f390b1a"
   },
   "outputs": [
    {
     "name": "stdout",
     "output_type": "stream",
     "text": [
      "82/82 [==============================] - 1s 7ms/step\n"
     ]
    },
    {
     "data": {
      "text/plain": [
       "array([[0.17002384, 0.82997614],\n",
       "       [0.66259885, 0.3374011 ],\n",
       "       [0.5810015 , 0.4189985 ],\n",
       "       ...,\n",
       "       [0.12131784, 0.87868214],\n",
       "       [0.18892223, 0.81107783],\n",
       "       [0.4244989 , 0.57550114]], dtype=float32)"
      ]
     },
     "execution_count": 295,
     "metadata": {},
     "output_type": "execute_result"
    }
   ],
   "source": [
    "model3.predict(x_test)"
   ]
  },
  {
   "cell_type": "code",
   "execution_count": null,
   "metadata": {
    "colab": {
     "base_uri": "https://localhost:8080/"
    },
    "id": "GHBAbL-XRRVT",
    "outputId": "acd413e1-c127-43c5-de01-55f1af105c69"
   },
   "outputs": [
    {
     "name": "stdout",
     "output_type": "stream",
     "text": [
      "82/82 [==============================] - 1s 7ms/step - loss: 0.5704 - accuracy: 0.7079\n"
     ]
    },
    {
     "data": {
      "text/plain": [
       "(0.5703970193862915, 0.7078565955162048)"
      ]
     },
     "execution_count": 296,
     "metadata": {},
     "output_type": "execute_result"
    }
   ],
   "source": [
    "score, acc = model3.evaluate(x_test, y_test)\n",
    "score, acc"
   ]
  },
  {
   "cell_type": "code",
   "execution_count": null,
   "metadata": {
    "colab": {
     "base_uri": "https://localhost:8080/"
    },
    "id": "DrrdTgXvR_H-",
    "outputId": "d0d804eb-c63e-4132-ec90-1b59ccd5d5e4"
   },
   "outputs": [
    {
     "name": "stdout",
     "output_type": "stream",
     "text": [
      "              precision    recall  f1-score   support\n",
      "\n",
      "      Female       0.61      0.59      0.60       972\n",
      "        Male       0.76      0.78      0.77      1650\n",
      "\n",
      "    accuracy                           0.71      2622\n",
      "   macro avg       0.69      0.68      0.69      2622\n",
      "weighted avg       0.71      0.71      0.71      2622\n",
      "\n"
     ]
    }
   ],
   "source": [
    "print(classification_report(np.argmax(y_test, axis=1), np.argmax(lstm_cnn_pred, axis=1),target_names=['Female', 'Male']))"
   ]
  }
 ],
 "metadata": {
  "colab": {
   "provenance": []
  },
  "kernelspec": {
   "display_name": "Python 3 (ipykernel)",
   "language": "python",
   "name": "python3"
  },
  "language_info": {
   "codemirror_mode": {
    "name": "ipython",
    "version": 3
   },
   "file_extension": ".py",
   "mimetype": "text/x-python",
   "name": "python",
   "nbconvert_exporter": "python",
   "pygments_lexer": "ipython3",
   "version": "3.9.12"
  }
 },
 "nbformat": 4,
 "nbformat_minor": 1
}
